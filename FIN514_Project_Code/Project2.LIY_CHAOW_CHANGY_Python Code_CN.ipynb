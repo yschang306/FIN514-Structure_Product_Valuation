{
 "cells": [
  {
   "cell_type": "markdown",
   "metadata": {},
   "source": [
    "# FIN 514 - Project 2 Choice #1 Python Codes_CN\n",
    "**Spring 2022**\n",
    "\n",
    "This notebook provides the valuation of Auto Callable Yield Notes Linked to the S&P500® Index due July 21, 2023\n",
    "Fully and Unconditionally Guaranteed by JPMorgan Chase & Co.\n",
    "\n",
    "Team members: Ya-Yen,Li(yayenli2) / Wei Ting,Chao(wtchao3) / Yu-Shiuan,Chang(yschang4)\n",
    "\n",
    "### Part a) Estimated value from Crank-Nicolson Method\n",
    "\n",
    "### Part b) Volatility Sensitive Analysis\n",
    "\n",
    "### Part c) Non-linearity Analysis\n",
    "\n",
    "This notebook provides a simple Explicit Finite Difference Code to value European style options\n",
    "\n",
    "\n",
    "## Packages and Configurations\n",
    "\n",
    "The following common packages will be use on this notebook.\n",
    "* numpy - [https://numpy.org/](https://numpy.org/)\n",
    "* Pandas - [https://pandas.pydata.org/](https://pandas.pydata.org/)\n",
    "* matplotlib - [https://matplotlib.org/](https://matplotlib.org/)\n",
    "* Scipy Statistical functions - [https://docs.scipy.org/doc/scipy/reference/stats.html](https://docs.scipy.org/doc/scipy/reference/stats.html)"
   ]
  },
  {
   "cell_type": "code",
   "execution_count": 1,
   "metadata": {},
   "outputs": [],
   "source": [
    "import numpy as np\n",
    "import pandas as pd\n",
    "import scipy.stats as st\n",
    "import matplotlib.pyplot as plt"
   ]
  },
  {
   "cell_type": "markdown",
   "metadata": {},
   "source": [
    "# Part a) Estimated value from Crank-Nicolson Method"
   ]
  },
  {
   "cell_type": "markdown",
   "metadata": {},
   "source": [
    "## Step 1: Set the parameters"
   ]
  },
  {
   "cell_type": "code",
   "execution_count": 2,
   "metadata": {},
   "outputs": [],
   "source": [
    "jmax = 250        # Number of S steps\n",
    "imax = 10000      # Number of t steps\n",
    "S0 = 4577.1       # Original Stock Price (1/18/2022)\n",
    "sigma = 0.21589   # Annualized (Future) Volatility of Stock Price Returns\n",
    "r = 0.007555      # Annualized Continously Compounded Risk-free Rate\n",
    "q = 0.01455       # Continuous Dividend Yield\n",
    "TM = 549/365      # Time of Maturity Date (7/21/2023)\n",
    "TFR = 546/365     # Time of Final Review Date (7/18/2023)\n",
    "SL = 0            # Minimum S value\n",
    "SU = 2.5*S0       # Maximum S value\n",
    "CPN = 5.375       # Coupon Payements per month\n",
    "Trigger = 0.7*S0  # Trigger Barrier"
   ]
  },
  {
   "cell_type": "code",
   "execution_count": 3,
   "metadata": {},
   "outputs": [],
   "source": [
    "# Review dates for autocall (Final Review Date TFM included)\n",
    "Review_dates = [90/365, 120/365, 154/365, 181/365, 212/365, 244/365, 273/365, 304/365,\n",
    "                335/365, 365/365, 399/365, 426/365, 455/365, 485/365, 518/365, 546/365]  \n",
    "\n",
    "# Payment dates for coupons from T3-T17 (Final Review Date TM NOT included) \n",
    "Payment_dates = [93/365, 125/365, 157/365, 184/365, 217/365, 247/365, 276/365, 309/365, \n",
    "                 338/365, 370/365,402/365, 429/365, 458/365, 490/365, 521/365]  \n",
    "\n",
    "# Payment dates for coupons from T1,T2 (no autocall)\n",
    "CPN_payment_dates = [37/365, 64/365]"
   ]
  },
  {
   "cell_type": "code",
   "execution_count": 4,
   "metadata": {},
   "outputs": [
    {
     "name": "stdout",
     "output_type": "stream",
     "text": [
      "dt: 0.0001495890410958904\n",
      "ireview:   [1648, 2197, 2820, 3315, 3882, 4468, 5000, 5567, 6135, 6684, 7307, 7802, 8333, 8882, 9487, 10000]\n",
      "ipayment1: [1703, 2289, 2875, 3369, 3974, 4523, 5054, 5659, 6190, 6776, 7362, 7857, 8388, 8974, 9542]\n",
      "icpn1:     [677, 1172]\n",
      "itotal:    [677, 1172, 1703, 2289, 2875, 3369, 3974, 4523, 5054, 5659, 6190, 6776, 7362, 7857, 8388, 8974, 9542]\n"
     ]
    }
   ],
   "source": [
    "# Check for dates\n",
    "\n",
    "# delta t\n",
    "dt = TFR / imax \n",
    "print(f\"dt: {dt}\")\n",
    "\n",
    "# Review dates for autocall (Final Review Date TM included)\n",
    "ireview1 = [i/dt for i in Review_dates]      \n",
    "ireview = [int(i) for i in ireview1]     \n",
    "print(f\"ireview:   {ireview}\")\n",
    "\n",
    "# Payment dates for coupons from T3~T17 (Final Review Date TM NOT included) \n",
    "ipayment1 = [i/dt for i in Payment_dates]  \n",
    "ipayment = [int(i) for i in ipayment1]\n",
    "print(f\"ipayment1: {ipayment}\")\n",
    "\n",
    "# Payment dates for coupons from T1,T2 (coupon only date)\n",
    "icpn1 = [i/dt for i in CPN_payment_dates]      \n",
    "icpn = [int(i) for i in icpn1]     \n",
    "print(f\"icpn1:     {icpn}\")\n",
    "\n",
    "# Payment dates for all coupons from T1~T17 \n",
    "itotal = icpn + ipayment\n",
    "print(f\"itotal:    {itotal}\")"
   ]
  },
  {
   "cell_type": "markdown",
   "metadata": {},
   "source": [
    "## Step 2: Build the Crank-Nicolson method function"
   ]
  },
  {
   "cell_type": "code",
   "execution_count": 5,
   "metadata": {},
   "outputs": [],
   "source": [
    "def CNFD(S0, Trigger, TM, TFR, r, q, sigma, SU, imax, jmax, CPN, Review_dates, Payment_dates, CPN_payment_dates):\n",
    "    \n",
    "    # CREATE TWO DIMENSIONAL ARRAY OF SIZE [imax+1,jmax+1] TO STORE V AND VT AT ALL STEPS   \n",
    "    V = np.zeros([imax+1, jmax+1])\n",
    "    VT = np.zeros([imax+1, jmax+1])\n",
    "\n",
    "    # CREATE ONE DIMENSIONAL ARRAY OF SIZE [jmax+1] TO STORE A, B, C VALUES AT ALL STEPS\n",
    "    # A[jmax], B[jmax], C[jmax], alpha[jmax], CN_S[jmax]\n",
    "    A = np.zeros([jmax+1])\n",
    "    B = np.zeros([jmax+1])\n",
    "    C = np.zeros([jmax+1])\n",
    "    D = np.zeros([jmax+1])\n",
    "    alpha = np.zeros([jmax+1])\n",
    "    CN_S = np.zeros([jmax+1])\n",
    "    \n",
    "    # Set up time and S steps\n",
    "    dt = TFR / imax\n",
    "    dS = SU  / jmax\n",
    "    \n",
    "    # Set up Autocall and Trigger steps \n",
    "    j0 = int(S0/dS)\n",
    "    jb = int(Trigger/dS)\n",
    "    \n",
    "    # Review dates for autocall (Final Review Date TM included)\n",
    "    ireview1 = [i/dt for i in Review_dates]       \n",
    "    ireview = [int(i) for i in ireview1]    \n",
    "\n",
    "    # Payment dates for coupons T3~T17 (Final Review Date TM NOT included) \n",
    "    ipayment1 = [i/dt for i in Payment_dates]      \n",
    "    ipayment = [int(i) for i in ipayment1]    \n",
    "    \n",
    "    # Payment dates for coupons T1,T2 (coupon only date)\n",
    "    icpn1 = [i/dt for i in CPN_payment_dates]        \n",
    "    icpn = [int(i) for i in icpn1]     \n",
    "    \n",
    "    # Payment dates for all coupons T1~T17\n",
    "    itotal = icpn + ipayment\n",
    "    \n",
    "    ### Grid for VT (Trigger event DOES happan) ###########################################################\n",
    "    \n",
    "    ### At maturity\n",
    "    # Calculate option value at maturity V[imax,j]\n",
    "    # Also calculate the probabilities A, B, C\n",
    "    i = imax \n",
    "        \n",
    "    for j in range(0, jmax+1):    \n",
    "\n",
    "        if j >= j0:  # Autocall \n",
    "            VT[i, j] = (1000 + CPN) *  np.exp(-r *(TM - TFR))  \n",
    "        else:\n",
    "            VT[i, j] = (1000 * (j*dS/S0) + CPN) *  np.exp(-r *(TM - TFR))\n",
    "        \n",
    "        A[j] = 0.25*sigma**2*j**2 - 0.25*(r-q)*j\n",
    "        B[j] = -1/dt-0.5*r-0.5*sigma**2*j**2\n",
    "        C[j] = 0.25*sigma**2*j**2 + 0.25*(r-q)*j\n",
    "    \n",
    "    ### Backward in time\n",
    "    counter1 = 0\n",
    "    counter2 = 0\n",
    "    \n",
    "    for i in range(imax-1, -1, -1):\n",
    "\n",
    "        ### Lower boundary condition in matrix terms\n",
    "        A[0] = 0\n",
    "        B[0] = 1\n",
    "        C[0] = 0\n",
    "        D[0] = 0\n",
    "        \n",
    "        # Check if i meet the review dates (T18 not included)\n",
    "        # D[0]=PV(remaining coupons)\n",
    "        if (i+1) in itotal:     \n",
    "            counter1 += 1\n",
    "        if counter1 > 0:\n",
    "            PV_cpn = []         # List to save the dicounted coupons \n",
    "            for k in range(1, counter1 +1):  \n",
    "                PV_cpn.append(CPN * np.exp(-r *(itotal[-k] * dt - i * dt)))  # Append dicounted coupons in the list\n",
    "            D[0] = sum(PV_cpn)  # Sum up the dicounted coupons \n",
    "\n",
    "        # Regular D[j] values\n",
    "        # Exclude D[0], D[jmax]\n",
    "        for j in range(1, jmax, 1):  \n",
    "            D1 = -VT[i+1,j-1]*(0.25*sigma**2*j**2-0.25*(r-q)*j)\n",
    "            D2 = -VT[i+1,j]*(1/dt-0.5*r-0.5*sigma**2*j**2)\n",
    "            D3 = -VT[i+1,j+1]*(0.25*sigma**2*j**2+0.25*(r-q)*j)\n",
    "            D[j] = D1+D2+D3\n",
    "\n",
    "        ### Upper boundary condition in matrix terms\n",
    "        A[jmax] = 0\n",
    "        B[jmax] = 1\n",
    "        C[jmax] = 0\n",
    "        if (i+1) in ireview:\n",
    "            counter2 += 1\n",
    "        D[jmax] = (1000 + CPN) * np.exp(-r * (ireview[-counter2] * dt - i * dt))\n",
    "        # ireview[-counter2]: time of next autocall\n",
    "        \n",
    "        ### Start LU decomposition\n",
    "        alpha[0] = B[0]\n",
    "        CN_S[0]  = D[0]\n",
    "        \n",
    "        # Where to stop solving?\n",
    "        if i in ireview:         # Autocall dates\n",
    "            StopFactor = j0+1    # Stop at j0 (Solve from 0~j0)\n",
    "        else:                   \n",
    "            StopFactor = jmax+1  # Stop at jmax (Solve from 0~jmax)\n",
    "        \n",
    "        # Solve alpha, CN_S\n",
    "        for j in range(1, StopFactor, 1):\n",
    "            alpha[j] = B[j]-(A[j]*C[j-1])/alpha[j-1]\n",
    "            CN_S[j] = D[j]-(A[j]*CN_S[j-1])/alpha[j-1]  \n",
    "        VT[i,(StopFactor - 1)] = CN_S[(StopFactor - 1)]/alpha[(StopFactor - 1)]  \n",
    "        \n",
    "        # But at autocall dates, boundaries are different\n",
    "        # A[j0] = 0, B[j0] = 1, C[j0] = 0, so change VT[i,j0:jmax+1] to D[j0]\n",
    "        if i in ireview:           \n",
    "            VT[i,j0:jmax+1] = (1000 + CPN) * np.exp(-r * (ipayment[ireview.index(i)] * dt - i * dt))\n",
    "            # ipayment[ireview.index(i)]: time of coupon date\n",
    "        \n",
    "        # Start from j0-1 or jmax-1 to j0\n",
    "        for j in range(StopFactor-2,-1,-1):\n",
    "            VT[i,j] = (CN_S[j]-C[j]*VT[i,j+1])/alpha[j]\n",
    "            if i in icpn:     # Payment dates for coupons T1,T2 (coupon only date) \n",
    "                VT[i,j] += CPN\n",
    "            if i in ireview:  # Payment dates for coupons T3~T17\n",
    "                VT[i,j] += CPN * np.exp(-r * (ipayment[ireview.index(i)] * dt - i * dt))      \n",
    "            \n",
    "    ### Grid for V (Trigger event does NOT happan) ###########################################################\n",
    "    \n",
    "    ### At maturity\n",
    "    # Calculate option value at maturity V[imax,j]\n",
    "    # Also calculate the probabilities A, B, C\n",
    "    i = imax \n",
    "    \n",
    "    for j in range(jb, jmax+1):  \n",
    "        V[i, j] = (1000 + CPN) *  np.exp(-r *(TM - TFR))  \n",
    "        A[j] = 0.25*sigma**2*j**2 - 0.25*(r-q)*j\n",
    "        B[j] = -1/dt-0.5*r-0.5*sigma**2*j**2\n",
    "        C[j] = 0.25*sigma**2*j**2 + 0.25*(r-q)*j\n",
    "    \n",
    "    ### Backward in time\n",
    "    counter3 = 0\n",
    "    \n",
    "    for i in range(imax-1, -1, -1):\n",
    "\n",
    "        # Lower boundary condition for V\n",
    "        A[jb] = 0\n",
    "        B[jb] = 1\n",
    "        C[jb] = 0\n",
    "        \n",
    "        # Get value from VT\n",
    "        D[jb] = VT[i, jb] \n",
    "\n",
    "        # Regular D values\n",
    "        for j in range(jb+1, jmax, 1):\n",
    "            D1 = -V[i+1,j-1]*(0.25*sigma**2*j**2-0.25*(r-q)*j)\n",
    "            D2 = -V[i+1,j]*(1/dt-0.5*r-0.5*sigma**2*j**2)\n",
    "            D3 = -V[i+1,j+1]*(0.25*sigma**2*j**2+0.25*(r-q)*j)\n",
    "            D[j] = D1+D2+D3\n",
    "            \n",
    "        # Upper boundary condition for V\n",
    "        A[jmax] = 0\n",
    "        B[jmax] = 1\n",
    "        C[jmax] = 0\n",
    "        if (i+1) in ireview:\n",
    "            counter3 += 1\n",
    "        D[jmax] = (1000 + CPN) * np.exp(-r * (ireview[-counter3] * dt - i * dt))\n",
    "        # ireview[-counter3]: time of next autocall\n",
    "\n",
    "        ### Start LU decomposition\n",
    "        alpha[jb] = B[jb]\n",
    "        CN_S[jb] = D[jb]\n",
    "        \n",
    "        # Where to stop solving?\n",
    "        if i in ireview:         # Autocall dates\n",
    "            StopFactor = j0+1    # Stop at j0 (Solve from 0~j0)\n",
    "        else:\n",
    "            StopFactor = jmax+1  # Stop at jmax (Solve from 0~jmax)\n",
    "        \n",
    "        # Solve alpha, CN_S\n",
    "        for j in range(jb+1, StopFactor, 1):\n",
    "            alpha[j] = B[j]-(A[j]*C[j-1])/alpha[j-1]\n",
    "            CN_S[j] = D[j]-(A[j]*CN_S[j-1])/alpha[j-1]  \n",
    "        V[i,(StopFactor - 1)] = CN_S[(StopFactor - 1)]/alpha[(StopFactor - 1)]\n",
    "        \n",
    "        # But at autocall dates, boundaries are different\n",
    "        # A[j0] = 0, B[j0] = 1, C[j0] = 0, so change V[i,j0:jmax+1] to D[j0]\n",
    "        if i in ireview:          \n",
    "            V[i,j0:jmax+1] = (1000 + CPN) * np.exp(-r * (ipayment[ireview.index(i)] * dt - i * dt))\n",
    "            # ipayment[ireview.index(i)]: time of coupon date\n",
    "            \n",
    "        # Start from j0-1 or jmax-1\n",
    "        for j in range(StopFactor-2,jb-1,-1):\n",
    "            V[i,j] = (CN_S[j]-C[j]*V[i,j+1])/alpha[j]\n",
    "            if i in icpn:      # Payment dates for coupons T1,T2 (coupon only date) \n",
    "                V[i,j] += CPN\n",
    "            if i in ireview:   # Payment dates for coupons T3~T17\n",
    "                V[i,j] += CPN * np.exp(-r * (ipayment[ireview.index(i)] * dt - i * dt))                      \n",
    "    \n",
    "    # If value lower than LBC(jb), then get value from VT\n",
    "    V[:, 0:jb] = VT[:, 0:jb]\n",
    "\n",
    "    # Final option value V[0, j0]\n",
    "    return V[0, j0]\n"
   ]
  },
  {
   "cell_type": "code",
   "execution_count": 6,
   "metadata": {},
   "outputs": [
    {
     "data": {
      "text/plain": [
       "991.7550127655967"
      ]
     },
     "execution_count": 6,
     "metadata": {},
     "output_type": "execute_result"
    }
   ],
   "source": [
    "cnfd = CNFD(S0, Trigger, TM, TFR, r, q, sigma, SU, imax, jmax, CPN, Review_dates, Payment_dates, CPN_payment_dates)\n",
    "cnfd"
   ]
  },
  {
   "cell_type": "code",
   "execution_count": 7,
   "metadata": {},
   "outputs": [
    {
     "data": {
      "text/plain": [
       "982.684652905072"
      ]
     },
     "execution_count": 7,
     "metadata": {},
     "output_type": "execute_result"
    }
   ],
   "source": [
    "cnfd_1 = CNFD(S0, Trigger, TM, TFR, r, q, 0.24, SU, imax, jmax, CPN, Review_dates, Payment_dates, CPN_payment_dates)\n",
    "cnfd_1"
   ]
  },
  {
   "cell_type": "markdown",
   "metadata": {},
   "source": [
    "# Part b) Volatility Sensitive Analysis"
   ]
  },
  {
   "cell_type": "code",
   "execution_count": 8,
   "metadata": {},
   "outputs": [],
   "source": [
    "# Volatities from obersavation dates \n",
    "vol = [0.3915633, 0.2627887,  # 2022/05/03\n",
    "       0.3625552, 0.2603371,  # 2022/11/01\n",
    "       0.3508948, 0.2762897,  # 2022/08/02\n",
    "       0.3383119, 0.2713139]  # 2023/01/31"
   ]
  },
  {
   "cell_type": "code",
   "execution_count": 9,
   "metadata": {},
   "outputs": [],
   "source": [
    "# List to save the value \n",
    "value_result = []\n",
    "\n",
    "# Value with different volatilities\n",
    "for sigma in vol:\n",
    "    note_value = CNFD(S0, Trigger, TM, TFR, r, q, sigma, SU, imax, jmax, CPN, Review_dates, Payment_dates, CPN_payment_dates)\n",
    "    output = {'Volatility': sigma, 'Value': note_value}\n",
    "    value_result.append(output)"
   ]
  },
  {
   "cell_type": "code",
   "execution_count": 10,
   "metadata": {},
   "outputs": [
    {
     "data": {
      "text/plain": [
       "[{'Volatility': 0.3915633, 'Value': 940.4016304302024},\n",
       " {'Volatility': 0.2627887, 'Value': 974.9272588786571},\n",
       " {'Volatility': 0.3625552, 'Value': 947.4020317606729},\n",
       " {'Volatility': 0.2603371, 'Value': 975.7258739175453},\n",
       " {'Volatility': 0.3508948, 'Value': 950.2872113855633},\n",
       " {'Volatility': 0.2762897, 'Value': 970.6709938672059},\n",
       " {'Volatility': 0.3383119, 'Value': 953.4631998378939},\n",
       " {'Volatility': 0.2713139, 'Value': 972.2126338277358}]"
      ]
     },
     "execution_count": 10,
     "metadata": {},
     "output_type": "execute_result"
    }
   ],
   "source": [
    "# Print value with different volatilities\n",
    "value_result"
   ]
  },
  {
   "cell_type": "markdown",
   "metadata": {},
   "source": [
    "# Part c) Non-linearity Analysis"
   ]
  },
  {
   "cell_type": "code",
   "execution_count": 11,
   "metadata": {},
   "outputs": [],
   "source": [
    "def CNFD_1(S0, Trigger, TM, TFR, r, q, sigma, SU, imax, jmaxmin, jmaxmax, jmaxstep, CPN, Review_dates, Payment_dates, CPN_payment_dates):\n",
    "    \n",
    "    # LIST TO SAVE RESULTS\n",
    "    cnfdb_result = []\n",
    "    \n",
    "    # Test different jmax\n",
    "    for jmax in range(jmaxmin, jmaxmax, jmaxstep):\n",
    "    \n",
    "        # CREATE TWO DIMENSIONAL ARRAY OF SIZE [imax+1,jmax+1] TO STORE V AND VT AT ALL STEPS   \n",
    "        V = np.zeros([imax+1, jmax+1])\n",
    "        VT = np.zeros([imax+1, jmax+1])\n",
    "\n",
    "        # CREATE ONE DIMENSIONAL ARRAY OF SIZE [jmax+1] TO STORE A, B, C VALUES AT ALL STEPS\n",
    "        # A[jmax], B[jmax], C[jmax] \n",
    "        A = np.zeros([jmax+1])\n",
    "        B = np.zeros([jmax+1])\n",
    "        C = np.zeros([jmax+1])\n",
    "        D = np.zeros([jmax+1])\n",
    "        alpha = np.zeros([jmax+1])\n",
    "        CN_S = np.zeros([jmax+1])\n",
    "\n",
    "        # Set up time and S steps\n",
    "        dt = TFR / imax\n",
    "        dS = SU  / jmax\n",
    "\n",
    "        # Set up Autocall and Trigger steps \n",
    "        j0 = int(S0/dS)\n",
    "        jb = int(Trigger/dS)\n",
    "\n",
    "        # Review dates for autocall (Final Review Date TM included)\n",
    "        ireview1 = [i/dt for i in Review_dates]       \n",
    "        ireview = [int(i) for i in ireview1]    \n",
    "\n",
    "        # Payment dates for coupons T3~T17 (Final Review Date TM NOT included) \n",
    "        ipayment1 = [i/dt for i in Payment_dates]      \n",
    "        ipayment = [int(i) for i in ipayment1]    \n",
    "\n",
    "        # Payment dates for coupons T1,T2 (coupon only date)\n",
    "        icpn1 = [i/dt for i in CPN_payment_dates]        \n",
    "        icpn = [int(i) for i in icpn1]     \n",
    "\n",
    "        # Payment dates for all coupons T1~T17\n",
    "        itotal = icpn + ipayment\n",
    "\n",
    "        ### Grid for VT (Trigger event DOES happan) ###########################################################\n",
    "\n",
    "        ### At maturity\n",
    "        # Calculate option value at maturity V[imax,j]\n",
    "        # Also calculate the probabilities A, B, C\n",
    "        i = imax \n",
    "\n",
    "        for j in range(0, jmax+1):    \n",
    "\n",
    "            if j >= j0:  # Autocall \n",
    "                VT[i, j] = (1000 + CPN) *  np.exp(-r *(TM - TFR))  \n",
    "            else:\n",
    "                VT[i, j] = (1000 * (j*dS/S0) + CPN) *  np.exp(-r *(TM - TFR))\n",
    "\n",
    "            A[j] = 0.25*sigma**2*j**2 - 0.25*(r-q)*j\n",
    "            B[j] = -1/dt-0.5*r-0.5*sigma**2*j**2\n",
    "            C[j] = 0.25*sigma**2*j**2 + 0.25*(r-q)*j\n",
    "\n",
    "        ### Backward in time\n",
    "        counter1 = 0\n",
    "        counter2 = 0\n",
    "\n",
    "        for i in range(imax-1, -1, -1):\n",
    "\n",
    "            ### Lower boundary condition in matrix terms\n",
    "            A[0] = 0\n",
    "            B[0] = 1\n",
    "            C[0] = 0\n",
    "            D[0] = 0\n",
    "\n",
    "            # Check if i meet the review dates (T18 not included)\n",
    "            # D[0]=PV(remaining coupons)\n",
    "            if (i+1) in itotal:     \n",
    "                counter1 += 1\n",
    "            if counter1 > 0:\n",
    "                PV_cpn = []         # List to save the dicounted coupons \n",
    "                for k in range(1, counter1 +1):  \n",
    "                    PV_cpn.append(CPN * np.exp(-r *(itotal[-k] * dt - i * dt)))  # Append dicounted coupons in the list\n",
    "                D[0] = sum(PV_cpn)  # Sum up the dicounted coupons \n",
    "\n",
    "            # Regular D[j] values\n",
    "            # Exclude D[0], D[jmax]\n",
    "            for j in range(1, jmax, 1):  \n",
    "                D1 = -VT[i+1,j-1]*(0.25*sigma**2*j**2-0.25*(r-q)*j)\n",
    "                D2 = -VT[i+1,j]*(1/dt-0.5*r-0.5*sigma**2*j**2)\n",
    "                D3 = -VT[i+1,j+1]*(0.25*sigma**2*j**2+0.25*(r-q)*j)\n",
    "                D[j] = D1+D2+D3\n",
    "\n",
    "            ### Upper boundary condition in matrix terms\n",
    "            A[jmax] = 0\n",
    "            B[jmax] = 1\n",
    "            C[jmax] = 0\n",
    "            if (i+1) in ireview:\n",
    "                counter2 += 1\n",
    "            D[jmax] = (1000 + CPN) * np.exp(-r * (ireview[-counter2] * dt - i * dt))\n",
    "            # ireview[-counter2]: time of next autocall\n",
    "\n",
    "            ### Start LU decomposition\n",
    "            alpha[0] = B[0]\n",
    "            CN_S[0]  = D[0]\n",
    "\n",
    "            # Where to stop solving?\n",
    "            if i in ireview:         # Autocall dates\n",
    "                StopFactor = j0+1    # Stop at j0 (Solve from 0~j0)\n",
    "            else:                   \n",
    "                StopFactor = jmax+1  # Stop at jmax (Solve from 0~jmax)\n",
    "\n",
    "            # Solve alpha, CN_S\n",
    "            for j in range(1, StopFactor, 1):\n",
    "                alpha[j] = B[j]-(A[j]*C[j-1])/alpha[j-1]\n",
    "                CN_S[j] = D[j]-(A[j]*CN_S[j-1])/alpha[j-1]  \n",
    "            VT[i,(StopFactor - 1)] = CN_S[(StopFactor - 1)]/alpha[(StopFactor - 1)]  \n",
    "\n",
    "            # But at autocall dates, boundaries are different\n",
    "            # A[j0] = 0, B[j0] = 1, C[j0] = 0, so change VT[i,j0:jmax+1] to D[j0]\n",
    "            if i in ireview:           \n",
    "                VT[i,j0:jmax+1] = (1000 + CPN) * np.exp(-r * (ipayment[ireview.index(i)] * dt - i * dt))\n",
    "                # ipayment[ireview.index(i)]: time of coupon date\n",
    "\n",
    "            # Start from j0-1 or jmax-1 to j0\n",
    "            for j in range(StopFactor-2,-1,-1):\n",
    "                VT[i,j] = (CN_S[j]-C[j]*VT[i,j+1])/alpha[j]\n",
    "                if i in icpn:     # Payment dates for coupons T1,T2 (coupon only date) \n",
    "                    VT[i,j] += CPN\n",
    "                if i in ireview:  # Payment dates for coupons T3~T17\n",
    "                    VT[i,j] += CPN * np.exp(-r * (ipayment[ireview.index(i)] * dt - i * dt))      \n",
    "\n",
    "        ### Grid for V (Trigger event does NOT happan) ###########################################################\n",
    "\n",
    "        ### At maturity\n",
    "        # Calculate option value at maturity V[imax,j]\n",
    "        # Also calculate the probabilities A, B, C\n",
    "        i = imax \n",
    "\n",
    "        for j in range(jb, jmax+1):  \n",
    "            V[i, j] = (1000 + CPN) *  np.exp(-r *(TM - TFR))  \n",
    "            A[j] = 0.25*sigma**2*j**2 - 0.25*(r-q)*j\n",
    "            B[j] = -1/dt-0.5*r-0.5*sigma**2*j**2\n",
    "            C[j] = 0.25*sigma**2*j**2 + 0.25*(r-q)*j\n",
    "\n",
    "        ### Backward in time\n",
    "        counter3 = 0\n",
    "\n",
    "        for i in range(imax-1, -1, -1):\n",
    "\n",
    "            # Lower boundary condition for V\n",
    "            A[jb] = 0\n",
    "            B[jb] = 1\n",
    "            C[jb] = 0\n",
    "\n",
    "            # Get value from VT\n",
    "            D[jb] = VT[i, jb] \n",
    "\n",
    "            # Regular D values\n",
    "            for j in range(jb+1, jmax, 1):\n",
    "                D1 = -V[i+1,j-1]*(0.25*sigma**2*j**2-0.25*(r-q)*j)\n",
    "                D2 = -V[i+1,j]*(1/dt-0.5*r-0.5*sigma**2*j**2)\n",
    "                D3 = -V[i+1,j+1]*(0.25*sigma**2*j**2+0.25*(r-q)*j)\n",
    "                D[j] = D1+D2+D3\n",
    "\n",
    "            # Upper boundary condition for V\n",
    "            A[jmax] = 0\n",
    "            B[jmax] = 1\n",
    "            C[jmax] = 0\n",
    "            if (i+1) in ireview:\n",
    "                counter3 += 1\n",
    "            D[jmax] = (1000 + CPN) * np.exp(-r * (ireview[-counter3] * dt - i * dt))\n",
    "            # ireview[-counter3]: time of next autocall\n",
    "\n",
    "            ### Start LU decomposition\n",
    "            alpha[jb] = B[jb]\n",
    "            CN_S[jb] = D[jb]\n",
    "\n",
    "            # Where to stop solving?\n",
    "            if i in ireview:         # Autocall dates\n",
    "                StopFactor = j0+1    # Stop at j0 (Solve from 0~j0)\n",
    "            else:\n",
    "                StopFactor = jmax+1  # Stop at jmax (Solve from 0~jmax)\n",
    "\n",
    "            # Solve alpha, CN_S\n",
    "            for j in range(jb+1, StopFactor, 1):\n",
    "                alpha[j] = B[j]-(A[j]*C[j-1])/alpha[j-1]\n",
    "                CN_S[j] = D[j]-(A[j]*CN_S[j-1])/alpha[j-1]  \n",
    "            V[i,(StopFactor - 1)] = CN_S[(StopFactor - 1)]/alpha[(StopFactor - 1)]\n",
    "\n",
    "            # But at autocall dates, boundaries are different\n",
    "            # A[j0] = 0, B[j0] = 1, C[j0] = 0, so change V[i,j0:jmax+1] to D[j0]\n",
    "            if i in ireview:          \n",
    "                V[i,j0:jmax+1] = (1000 + CPN) * np.exp(-r * (ipayment[ireview.index(i)] * dt - i * dt))\n",
    "                # ipayment[ireview.index(i)]: time of coupon date\n",
    "\n",
    "            # Start from j0-1 or jmax-1\n",
    "            for j in range(StopFactor-2,jb-1,-1):\n",
    "                V[i,j] = (CN_S[j]-C[j]*V[i,j+1])/alpha[j]\n",
    "                if i in icpn:      # Payment dates for coupons T1,T2 (coupon only date) \n",
    "                    V[i,j] += CPN\n",
    "                if i in ireview:   # Payment dates for coupons T3~T17\n",
    "                    V[i,j] += CPN * np.exp(-r * (ipayment[ireview.index(i)] * dt - i * dt))                      \n",
    "\n",
    "        # If value lower than LBC(jb), then get value from VT\n",
    "        V[:, 0:jb] = VT[:, 0:jb]\n",
    "        \n",
    "        # RELAY OUTPUTS TO DICTIONARY\n",
    "        jcritreal = S0/dS\n",
    "        jcrit = int(jcritreal)\n",
    "        jcritB = int(Trigger/dS)+1\n",
    "        Vcrit = V[0,jcrit]+ (S0 - jcrit * dS) / (dS) * (V[0,jcrit+1] - V[0,jcrit])\n",
    "        Blambda = (jcritB*dS - Trigger)/dS\n",
    "        output = {'S_steps': jmax, 't_steps': imax, 'CN': Vcrit, 'Barrier Lambda': Blambda}\n",
    "        cnfdb_result.append(output)\n",
    "\n",
    "    # return different j results\n",
    "    return cnfdb_result"
   ]
  },
  {
   "cell_type": "markdown",
   "metadata": {},
   "source": [
    "### Varying lambda"
   ]
  },
  {
   "cell_type": "code",
   "execution_count": 12,
   "metadata": {},
   "outputs": [],
   "source": [
    "start_j = 50  # start j (jmaxmin)\n",
    "end_j = 500   # end j   (jmaxmax)\n",
    "j_step = 10   # j steps"
   ]
  },
  {
   "cell_type": "code",
   "execution_count": 13,
   "metadata": {},
   "outputs": [
    {
     "ename": "KeyboardInterrupt",
     "evalue": "",
     "output_type": "error",
     "traceback": [
      "\u001b[0;31m---------------------------------------------------------------------------\u001b[0m",
      "\u001b[0;31mKeyboardInterrupt\u001b[0m                         Traceback (most recent call last)",
      "\u001b[0;32m/var/folders/pw/j5hjw83j5f7fkzgry82dbnfh0000gn/T/ipykernel_18438/1801515944.py\u001b[0m in \u001b[0;36m<module>\u001b[0;34m\u001b[0m\n\u001b[0;32m----> 1\u001b[0;31m \u001b[0mcnfd_varyLamda\u001b[0m \u001b[0;34m=\u001b[0m \u001b[0mCNFD_1\u001b[0m\u001b[0;34m(\u001b[0m\u001b[0mS0\u001b[0m\u001b[0;34m,\u001b[0m \u001b[0mBarrier\u001b[0m\u001b[0;34m,\u001b[0m \u001b[0mTM\u001b[0m\u001b[0;34m,\u001b[0m \u001b[0mTFR\u001b[0m\u001b[0;34m,\u001b[0m \u001b[0mr\u001b[0m\u001b[0;34m,\u001b[0m \u001b[0mq\u001b[0m\u001b[0;34m,\u001b[0m \u001b[0msigma\u001b[0m\u001b[0;34m,\u001b[0m \u001b[0mSU\u001b[0m\u001b[0;34m,\u001b[0m \u001b[0mimax\u001b[0m\u001b[0;34m,\u001b[0m \u001b[0mstart_j\u001b[0m\u001b[0;34m,\u001b[0m \u001b[0mend_j\u001b[0m\u001b[0;34m,\u001b[0m \u001b[0mj_step\u001b[0m\u001b[0;34m,\u001b[0m \u001b[0mCPN\u001b[0m\u001b[0;34m,\u001b[0m \u001b[0mReview_dates\u001b[0m\u001b[0;34m,\u001b[0m \u001b[0mPayment_dates\u001b[0m\u001b[0;34m,\u001b[0m \u001b[0mCPN_payment_dates\u001b[0m\u001b[0;34m)\u001b[0m\u001b[0;34m\u001b[0m\u001b[0;34m\u001b[0m\u001b[0m\n\u001b[0m",
      "\u001b[0;32m/var/folders/pw/j5hjw83j5f7fkzgry82dbnfh0000gn/T/ipykernel_18438/3091527262.py\u001b[0m in \u001b[0;36mCNFD_1\u001b[0;34m(S0, Barrier, TM, TFR, r, q, sigma, SU, imax, jmaxmin, jmaxmax, jmaxstep, CPN, Review_dates, Payment_dates, CPN_payment_dates)\u001b[0m\n\u001b[1;32m    159\u001b[0m             \u001b[0;32mfor\u001b[0m \u001b[0mj\u001b[0m \u001b[0;32min\u001b[0m \u001b[0mrange\u001b[0m\u001b[0;34m(\u001b[0m\u001b[0mjb\u001b[0m\u001b[0;34m+\u001b[0m\u001b[0;36m1\u001b[0m\u001b[0;34m,\u001b[0m \u001b[0mjmax\u001b[0m\u001b[0;34m,\u001b[0m \u001b[0;36m1\u001b[0m\u001b[0;34m)\u001b[0m\u001b[0;34m:\u001b[0m\u001b[0;34m\u001b[0m\u001b[0;34m\u001b[0m\u001b[0m\n\u001b[1;32m    160\u001b[0m                 \u001b[0mD1\u001b[0m \u001b[0;34m=\u001b[0m \u001b[0;34m-\u001b[0m\u001b[0mV\u001b[0m\u001b[0;34m[\u001b[0m\u001b[0mi\u001b[0m\u001b[0;34m+\u001b[0m\u001b[0;36m1\u001b[0m\u001b[0;34m,\u001b[0m\u001b[0mj\u001b[0m\u001b[0;34m-\u001b[0m\u001b[0;36m1\u001b[0m\u001b[0;34m]\u001b[0m\u001b[0;34m*\u001b[0m\u001b[0;34m(\u001b[0m\u001b[0;36m0.25\u001b[0m\u001b[0;34m*\u001b[0m\u001b[0msigma\u001b[0m\u001b[0;34m**\u001b[0m\u001b[0;36m2\u001b[0m\u001b[0;34m*\u001b[0m\u001b[0mj\u001b[0m\u001b[0;34m**\u001b[0m\u001b[0;36m2\u001b[0m\u001b[0;34m-\u001b[0m\u001b[0;36m0.25\u001b[0m\u001b[0;34m*\u001b[0m\u001b[0;34m(\u001b[0m\u001b[0mr\u001b[0m\u001b[0;34m-\u001b[0m\u001b[0mq\u001b[0m\u001b[0;34m)\u001b[0m\u001b[0;34m*\u001b[0m\u001b[0mj\u001b[0m\u001b[0;34m)\u001b[0m\u001b[0;34m\u001b[0m\u001b[0;34m\u001b[0m\u001b[0m\n\u001b[0;32m--> 161\u001b[0;31m                 \u001b[0mD2\u001b[0m \u001b[0;34m=\u001b[0m \u001b[0;34m-\u001b[0m\u001b[0mV\u001b[0m\u001b[0;34m[\u001b[0m\u001b[0mi\u001b[0m\u001b[0;34m+\u001b[0m\u001b[0;36m1\u001b[0m\u001b[0;34m,\u001b[0m\u001b[0mj\u001b[0m\u001b[0;34m]\u001b[0m\u001b[0;34m*\u001b[0m\u001b[0;34m(\u001b[0m\u001b[0;36m1\u001b[0m\u001b[0;34m/\u001b[0m\u001b[0mdt\u001b[0m\u001b[0;34m-\u001b[0m\u001b[0;36m0.5\u001b[0m\u001b[0;34m*\u001b[0m\u001b[0mr\u001b[0m\u001b[0;34m-\u001b[0m\u001b[0;36m0.5\u001b[0m\u001b[0;34m*\u001b[0m\u001b[0msigma\u001b[0m\u001b[0;34m**\u001b[0m\u001b[0;36m2\u001b[0m\u001b[0;34m*\u001b[0m\u001b[0mj\u001b[0m\u001b[0;34m**\u001b[0m\u001b[0;36m2\u001b[0m\u001b[0;34m)\u001b[0m\u001b[0;34m\u001b[0m\u001b[0;34m\u001b[0m\u001b[0m\n\u001b[0m\u001b[1;32m    162\u001b[0m                 \u001b[0mD3\u001b[0m \u001b[0;34m=\u001b[0m \u001b[0;34m-\u001b[0m\u001b[0mV\u001b[0m\u001b[0;34m[\u001b[0m\u001b[0mi\u001b[0m\u001b[0;34m+\u001b[0m\u001b[0;36m1\u001b[0m\u001b[0;34m,\u001b[0m\u001b[0mj\u001b[0m\u001b[0;34m+\u001b[0m\u001b[0;36m1\u001b[0m\u001b[0;34m]\u001b[0m\u001b[0;34m*\u001b[0m\u001b[0;34m(\u001b[0m\u001b[0;36m0.25\u001b[0m\u001b[0;34m*\u001b[0m\u001b[0msigma\u001b[0m\u001b[0;34m**\u001b[0m\u001b[0;36m2\u001b[0m\u001b[0;34m*\u001b[0m\u001b[0mj\u001b[0m\u001b[0;34m**\u001b[0m\u001b[0;36m2\u001b[0m\u001b[0;34m+\u001b[0m\u001b[0;36m0.25\u001b[0m\u001b[0;34m*\u001b[0m\u001b[0;34m(\u001b[0m\u001b[0mr\u001b[0m\u001b[0;34m-\u001b[0m\u001b[0mq\u001b[0m\u001b[0;34m)\u001b[0m\u001b[0;34m*\u001b[0m\u001b[0mj\u001b[0m\u001b[0;34m)\u001b[0m\u001b[0;34m\u001b[0m\u001b[0;34m\u001b[0m\u001b[0m\n\u001b[1;32m    163\u001b[0m                 \u001b[0mD\u001b[0m\u001b[0;34m[\u001b[0m\u001b[0mj\u001b[0m\u001b[0;34m]\u001b[0m \u001b[0;34m=\u001b[0m \u001b[0mD1\u001b[0m\u001b[0;34m+\u001b[0m\u001b[0mD2\u001b[0m\u001b[0;34m+\u001b[0m\u001b[0mD3\u001b[0m\u001b[0;34m\u001b[0m\u001b[0;34m\u001b[0m\u001b[0m\n",
      "\u001b[0;31mKeyboardInterrupt\u001b[0m: "
     ]
    }
   ],
   "source": [
    "cnfd_varyLamda = CNFD_1(S0, Trigger, TM, TFR, r, q, sigma, SU, imax, start_j, end_j, j_step, CPN, Review_dates, Payment_dates, CPN_payment_dates)"
   ]
  },
  {
   "cell_type": "code",
   "execution_count": null,
   "metadata": {},
   "outputs": [],
   "source": [
    "# CREATE A DATAFRAME FROM THE BINOMIAL MODEL OUTPUT\n",
    "df_varyLamda = pd.DataFrame.from_dict(cnfd_varyLamda)"
   ]
  },
  {
   "cell_type": "code",
   "execution_count": null,
   "metadata": {},
   "outputs": [],
   "source": [
    "df_varyLamda.head()"
   ]
  },
  {
   "cell_type": "code",
   "execution_count": null,
   "metadata": {},
   "outputs": [],
   "source": [
    "df_varyLamda.tail()"
   ]
  },
  {
   "cell_type": "code",
   "execution_count": null,
   "metadata": {},
   "outputs": [],
   "source": [
    "# EXPORT THE DATA TO A CSV FILE\n",
    "# df_varyLamda.to_csv(\"/Users/changyushiuan/Desktop/2022Spring/FIN514/Project/Project2/cnfd.csv\", index=False)"
   ]
  },
  {
   "cell_type": "code",
   "execution_count": null,
   "metadata": {
    "scrolled": true
   },
   "outputs": [],
   "source": [
    "plt.figure(figsize=(14,10))\n",
    "plt.plot(df_varyLamda['S_steps'], df_varyLamda['CN'], '-', markersize=3)\n",
    "plt.title(\"Option Value of CN\")\n",
    "plt.xlabel(\"Number of S steps\")\n",
    "plt.ylabel(\"Value\")\n",
    "# plt.savefig('/Users/changyushiuan/Desktop/2022Spring/FIN514/Project/Project1/cn_value.png')\n",
    "plt.show()"
   ]
  },
  {
   "cell_type": "markdown",
   "metadata": {},
   "source": [
    "### Lambda=1\n",
    "In this case, since the continuous barrier (autocall) have the largest error, we can make the grid exactly on the notes,\n",
    "by selecting lamda=1."
   ]
  },
  {
   "cell_type": "code",
   "execution_count": null,
   "metadata": {},
   "outputs": [],
   "source": [
    "start_j = 50  # start j (jmaxmin)\n",
    "end_j = 500   # end j   (jmaxmax)\n",
    "j_step = 25   # j steps"
   ]
  },
  {
   "cell_type": "code",
   "execution_count": null,
   "metadata": {},
   "outputs": [],
   "source": [
    "cnfd_lamda1 = CNFD_1(S0, Trigger, TM, TFR, r, q, sigma, SU, imax, start_j, end_j, j_step, CPN, Review_dates, Payment_dates, CPN_payment_dates)"
   ]
  },
  {
   "cell_type": "code",
   "execution_count": null,
   "metadata": {},
   "outputs": [],
   "source": [
    "# CREATE A DATAFRAME FROM THE BINOMIAL MODEL OUTPUT\n",
    "df_Lamda1 = pd.DataFrame.from_dict(cnfd_lamda1)"
   ]
  },
  {
   "cell_type": "code",
   "execution_count": null,
   "metadata": {},
   "outputs": [],
   "source": [
    "df_Lamda1.head()"
   ]
  },
  {
   "cell_type": "code",
   "execution_count": null,
   "metadata": {},
   "outputs": [],
   "source": [
    "df_Lamda1.tail()"
   ]
  },
  {
   "cell_type": "code",
   "execution_count": null,
   "metadata": {},
   "outputs": [],
   "source": [
    "plt.figure(figsize=(14,10))\n",
    "plt.plot(df_Lamda1['S_steps'], df_Lamda1['CN'], '-', markersize=3)\n",
    "plt.title(\"Option Value of CN\")\n",
    "plt.xlabel(\"Number of S steps\")\n",
    "plt.ylabel(\"Value\")\n",
    "# plt.savefig('/Users/changyushiuan/Desktop/2022Spring/FIN514/Project/Project1/cn_value.png')\n",
    "plt.show()"
   ]
  },
  {
   "cell_type": "code",
   "execution_count": null,
   "metadata": {},
   "outputs": [],
   "source": []
  }
 ],
 "metadata": {
  "kernelspec": {
   "display_name": "Python 3 (ipykernel)",
   "language": "python",
   "name": "python3"
  },
  "language_info": {
   "codemirror_mode": {
    "name": "ipython",
    "version": 3
   },
   "file_extension": ".py",
   "mimetype": "text/x-python",
   "name": "python",
   "nbconvert_exporter": "python",
   "pygments_lexer": "ipython3",
   "version": "3.9.7"
  }
 },
 "nbformat": 4,
 "nbformat_minor": 4
}
