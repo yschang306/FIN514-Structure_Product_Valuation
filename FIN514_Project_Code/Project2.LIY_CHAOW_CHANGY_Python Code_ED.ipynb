{
 "cells": [
  {
   "cell_type": "markdown",
   "metadata": {},
   "source": [
    "# FIN 514 - Project 2 Choice #1 Python Codes_ED\n",
    "**Spring 2022**\n",
    "\n",
    "This notebook provides the valuation of Auto Callable Yield Notes Linked to the S&P500® Index due July 21, 2023\n",
    "Fully and Unconditionally Guaranteed by JPMorgan Chase & Co.\n",
    "\n",
    "Team members: Ya-Yen,Li(yayenli2) / Wei Ting,Chao(wtchao3) / Yu-Shiuan,Chang(yschang4)\n",
    "\n",
    "### Part a) Estimated value from Explicit Difference Methods\n",
    "\n",
    "### Part b) Volatility Sensitive Analysis\n",
    "\n",
    "### Part c) Non-linearity Analysis\n",
    "\n",
    "### Part d) Stability Analysis\n",
    "\n",
    "This notebook provides a simple Explicit Finite Difference Code to value European style options\n",
    "\n",
    "\n",
    "## Packages and Configurations\n",
    "\n",
    "The following common packages will be use on this notebook.\n",
    "* numpy - [https://numpy.org/](https://numpy.org/)\n",
    "* Pandas - [https://pandas.pydata.org/](https://pandas.pydata.org/)\n",
    "* matplotlib - [https://matplotlib.org/](https://matplotlib.org/)\n",
    "* Scipy Statistical functions - [https://docs.scipy.org/doc/scipy/reference/stats.html](https://docs.scipy.org/doc/scipy/reference/stats.html)"
   ]
  },
  {
   "cell_type": "code",
   "execution_count": 1,
   "metadata": {},
   "outputs": [],
   "source": [
    "import numpy as np\n",
    "import pandas as pd\n",
    "import scipy.stats as st\n",
    "import matplotlib.pyplot as plt"
   ]
  },
  {
   "cell_type": "markdown",
   "metadata": {},
   "source": [
    "# Part a) Estimated value from Explicit Difference Methods"
   ]
  },
  {
   "cell_type": "markdown",
   "metadata": {},
   "source": [
    "## Step 1: Set the parameters"
   ]
  },
  {
   "cell_type": "code",
   "execution_count": 2,
   "metadata": {},
   "outputs": [],
   "source": [
    "jmax = 250        # Number of S steps\n",
    "imax = 10000      # Number of t steps\n",
    "S0 = 4577.1       # Original Stock Price (1/18/2022)\n",
    "sigma = 0.21589   # Annualized (Future) Volatility of Stock Price Returns\n",
    "r = 0.007555      # Annualized Continously Compounded Risk-free Rate\n",
    "q = 0.01455       # Continuous Dividend Yield\n",
    "TM = 549/365      # Time of Maturity Date (T19) (7/21/2023) \n",
    "TFR = 546/365     # Time of Final Review Date (T18) (7/18/2023)\n",
    "SL = 0            # Minimum S value\n",
    "SU = 2.5*S0       # Maximum S value\n",
    "CPN = 5.375       # Coupon Payements per month\n",
    "Trigger = 0.7*S0  # Trigger Barrier"
   ]
  },
  {
   "cell_type": "code",
   "execution_count": 3,
   "metadata": {},
   "outputs": [],
   "source": [
    "# Review dates for autocall (Final Review Date TFM included)\n",
    "Review_dates = [90/365, 120/365, 154/365, 181/365, 212/365, 244/365, 273/365, 304/365,\n",
    "                335/365, 365/365, 399/365, 426/365, 455/365, 485/365, 518/365, 546/365]  \n",
    "\n",
    "# Payment dates for coupons from T3-T17 (Final Review Date TM NOT included) \n",
    "Payment_dates = [93/365, 125/365, 157/365, 184/365, 217/365, 247/365, 276/365, 309/365, \n",
    "                 338/365, 370/365,402/365, 429/365, 458/365, 490/365, 521/365]  \n",
    "\n",
    "# Payment dates for coupons from T1,T2 (no autocall)\n",
    "CPN_payment_dates = [37/365, 64/365]"
   ]
  },
  {
   "cell_type": "code",
   "execution_count": 4,
   "metadata": {
    "scrolled": true
   },
   "outputs": [
    {
     "name": "stdout",
     "output_type": "stream",
     "text": [
      "dt: 0.0001495890410958904\n",
      "ireview:   [1648, 2197, 2820, 3315, 3882, 4468, 5000, 5567, 6135, 6684, 7307, 7802, 8333, 8882, 9487, 10000]\n",
      "ipayment1: [1703, 2289, 2875, 3369, 3974, 4523, 5054, 5659, 6190, 6776, 7362, 7857, 8388, 8974, 9542]\n",
      "icpn1:     [677, 1172]\n",
      "itotal:    [677, 1172, 1703, 2289, 2875, 3369, 3974, 4523, 5054, 5659, 6190, 6776, 7362, 7857, 8388, 8974, 9542]\n"
     ]
    }
   ],
   "source": [
    "# Check for dates\n",
    "\n",
    "# delta t\n",
    "dt = TFR / imax \n",
    "print(f\"dt: {dt}\")\n",
    "\n",
    "# Review dates for autocall (Final Review Date TFR included)\n",
    "ireview1 = [i/dt for i in Review_dates]      \n",
    "ireview = [int(i) for i in ireview1]     \n",
    "print(f\"ireview:   {ireview}\")\n",
    "\n",
    "# Payment dates for coupons from T3~T17 (Maturity Date TM NOT included) \n",
    "ipayment1 = [i/dt for i in Payment_dates]  \n",
    "ipayment = [int(i) for i in ipayment1]\n",
    "print(f\"ipayment1: {ipayment}\")\n",
    "\n",
    "# Payment dates for coupons from T1,T2 (coupon only date)\n",
    "icpn1 = [i/dt for i in CPN_payment_dates]      \n",
    "icpn = [int(i) for i in icpn1]     \n",
    "print(f\"icpn1:     {icpn}\")\n",
    "\n",
    "# Payment dates for all coupons from T1~T17 \n",
    "itotal = icpn + ipayment\n",
    "print(f\"itotal:    {itotal}\")"
   ]
  },
  {
   "cell_type": "markdown",
   "metadata": {},
   "source": [
    "## Step 2: Build the Explicit Difference method function"
   ]
  },
  {
   "cell_type": "code",
   "execution_count": 5,
   "metadata": {},
   "outputs": [],
   "source": [
    "def EXPFD(S0, Trigger, TM, TFR, r, q, sigma, SU, imax, jmax, CPN, Review_dates, Payment_dates, CPN_payment_dates):\n",
    "    \n",
    "    # CREATE TWO DIMENSIONAL ARRAY OF SIZE [imax+1,jmax+1] TO STORE V AND VT AT ALL STEPS\n",
    "    V  = np.zeros([imax+1, jmax+1])\n",
    "    VT = np.zeros([imax+1, jmax+1])\n",
    "\n",
    "    # CREATE ONE DIMENSIONAL ARRAY OF SIZE [jmax+1] TO STORE A, B, C VALUES AT ALL STEPS\n",
    "    # A[jmax], B[jmax], C[jmax] \n",
    "    A = np.zeros([jmax+1])\n",
    "    B = np.zeros([jmax+1])\n",
    "    C = np.zeros([jmax+1])\n",
    "    \n",
    "    # Set up time and S steps\n",
    "    dt = TFR / imax\n",
    "    dS = SU / jmax\n",
    "    \n",
    "    # Set up Autocall and Trigger steps \n",
    "    j0 = int(S0/dS)        \n",
    "    jb = int(Trigger/dS)   \n",
    "    \n",
    "    # Review dates for autocall (Final Review Date TM included)\n",
    "    ireview1 = [i/dt for i in Review_dates]      \n",
    "    ireview = [int(i) for i in ireview1]    \n",
    "\n",
    "    # Payment dates for coupons from T3~T17 (Final Review Date TM NOT included) \n",
    "    ipayment1 = [i/dt for i in Payment_dates]        \n",
    "    ipayment = [int(i) for i in ipayment1]       \n",
    "    \n",
    "    # Payment dates for coupons from T1,T2 (coupon only date)\n",
    "    icpn1 = [i/dt for i in CPN_payment_dates]       \n",
    "    icpn = [int(i) for i in icpn1]      \n",
    "    \n",
    "    # Payment dates for all coupons from T1~T17 \n",
    "    itotal = icpn + ipayment\n",
    "    \n",
    "    ### Grid for VT (Trigger event DOES happan) ###########################################################\n",
    "    \n",
    "    ### At maturity\n",
    "    # Calculate option value at maturity VT[imax,j]\n",
    "    # Also calculate the probabilities A, B, C\n",
    "    i = imax \n",
    "            \n",
    "    for j in range(0, jmax+1):    \n",
    "\n",
    "        if j >= j0:  \n",
    "            VT[i, j] = (1000 + CPN) * np.exp(-r *(TM - TFR))  # Autocall                                   \n",
    "        else:\n",
    "            VT[i, j] = (1000 * (j*dS/S0) + CPN) * np.exp(-r *(TM - TFR))\n",
    "                \n",
    "        A[j] = (0.5 * (sigma ** 2) * (j ** 2) + 0.5 * (r - q) * j) * dt\n",
    "        B[j] =  1 - r * dt - sigma ** 2 * j ** 2 * dt\n",
    "        C[j] = (0.5 * (sigma ** 2) * (j ** 2) - 0.5 * (r - q) * j) * dt\n",
    "\n",
    "    ### Backward in time\n",
    "    counter1 = 0\n",
    "    counter2 = 0\n",
    "    \n",
    "    for i in range(imax-1, -1, -1):\n",
    "        \n",
    "        # Lower boundary condition for VT\n",
    "        # VT[i,0]=PV(remaining coupons)\n",
    "        VT[i, 0] = 0\n",
    "        \n",
    "        # Check if i meet the review dates (T18 not included)\n",
    "        if (i+1) in itotal:         \n",
    "            counter1 += 1\n",
    "        if counter1 > 0:\n",
    "            PV_cpn = []             # List to save the coupons \n",
    "            for k in range(1, counter1+1):\n",
    "                PV_cpn.append(CPN * np.exp(-r *(itotal[-k] * dt - i * dt)))  # Append each coupon in the list\n",
    "            VT[i, 0] = sum(PV_cpn)  # Sum up the coupons \n",
    "    \n",
    "        # Regular finite difference formula\n",
    "        for j in range(1, jmax, 1):\n",
    "                       \n",
    "            VT[i,j] = A[j]*VT[i+1,j+1]+B[j]*VT[i+1,j]+C[j]*VT[i+1,j-1] \n",
    "            \n",
    "            # Payment dates for coupons T1,T2 (coupon only date) \n",
    "            if i in icpn:     \n",
    "                VT[i,j] += CPN\n",
    "                \n",
    "            # Payment dates for coupons T3~T17\n",
    "            if i in ireview:\n",
    "                if j * dS >= S0:\n",
    "                    VT[i,j] = (1000 + CPN) * np.exp(-r * (ipayment[ireview.index(i)] * dt - i * dt))\n",
    "                else:\n",
    "                    VT[i,j] += CPN * np.exp(-r * (ipayment[ireview.index(i)] * dt - i * dt))\n",
    "                    # ipayment[ireview.index(i)]: time of coupon date\n",
    "                    \n",
    "        # Upper boundary condition for VT\n",
    "        if (i+1) in ireview:  # If next time step is autocall date???  \n",
    "            counter2 += 1  \n",
    "        VT[i,jmax] = (1000 + CPN) * np.exp(-r * (ireview[-counter2] * dt - i * dt))\n",
    "        # ireview[-counter2]: time of next autocall\n",
    "        \n",
    "    ### Grid for V (Trigger event does NOT happan) ###########################################################\n",
    "    \n",
    "    ### At maturity\n",
    "    # Calculate option value at maturity V[imax,j]\n",
    "    # Probabilities A, B, C are the same from V\n",
    "    i = imax \n",
    "    \n",
    "    for j in range(0, jmax+1):\n",
    "        if j >= jb:\n",
    "            V[i, j] = (1000 + CPN) * np.exp(-r *(TM - TFR))      \n",
    "        \n",
    "    counter3 = 0\n",
    "\n",
    "    ### Backward in time\n",
    "    for i in range(imax-1, -1, -1):\n",
    "\n",
    "        # Lower boundary condition for V\n",
    "        # Get value from VT\n",
    "        V[i, jb] = VT[i, jb] \n",
    "\n",
    "        # Regular finite difference formula\n",
    "        for j in range(jb+1, jmax, 1):\n",
    "\n",
    "            V[i,j] = A[j]*V[i+1,j+1]+B[j]*V[i+1,j]+C[j]*V[i+1,j-1]\n",
    "\n",
    "            # Payment dates for coupons T1,T2 (coupon only date) \n",
    "            if i in icpn:\n",
    "                V[i,j] += CPN\n",
    "\n",
    "            # Payment dates for coupons T3~T17\n",
    "            if i in ireview:\n",
    "                if j * dS >= S0:  # Autocall\n",
    "                    V[i,j] = (1000 + CPN) * np.exp(-r * (ipayment[ireview.index(i)] * dt - i * dt))\n",
    "                else:\n",
    "                    V[i,j] += CPN * np.exp(-r * (ipayment[ireview.index(i)] * dt - i * dt))\n",
    "                    # ipayment[ireview.index(i)]: time of coupon date\n",
    "        \n",
    "        # Upper boundary condition for V\n",
    "        if (i+1) in ireview:\n",
    "            counter3 += 1\n",
    "        V[i,jmax] = (1000 + CPN) * np.exp(-r * (ireview[-counter3] * dt - i * dt))\n",
    "        # ireview[-counter3]: time of next autocall\n",
    "   \n",
    "    # If value lower than LBC, then get value from VT\n",
    "    V[:, 0:jb] = VT[:, 0:jb]\n",
    "    \n",
    "    # Final option value V[0, j0]\n",
    "    return V[0, j0]\n"
   ]
  },
  {
   "cell_type": "code",
   "execution_count": 6,
   "metadata": {
    "scrolled": true
   },
   "outputs": [
    {
     "name": "stdout",
     "output_type": "stream",
     "text": [
      "991.27041730021\n"
     ]
    }
   ],
   "source": [
    "expfd = EXPFD(S0, Trigger, TM, TFR, r, q, sigma, SU, imax, jmax, CPN, Review_dates, Payment_dates, CPN_payment_dates)\n",
    "print(expfd)"
   ]
  },
  {
   "cell_type": "markdown",
   "metadata": {},
   "source": [
    "# Part b) Volatility Sensitive Analysis"
   ]
  },
  {
   "cell_type": "code",
   "execution_count": 7,
   "metadata": {},
   "outputs": [],
   "source": [
    "# Volatities from obersavation dates \n",
    "vol = [0.3915633, 0.2627887,  # 2022/05/03\n",
    "       0.3625552, 0.2603371,  # 2022/11/01\n",
    "       0.3508948, 0.2762897,  # 2022/08/02\n",
    "       0.3383119, 0.2713139]  # 2023/01/31"
   ]
  },
  {
   "cell_type": "code",
   "execution_count": 8,
   "metadata": {},
   "outputs": [],
   "source": [
    "# List to save the value \n",
    "value_result = []\n",
    "\n",
    "# Value with different volatilities\n",
    "for i in vol:\n",
    "    \n",
    "    # Make sure the grid is stable\n",
    "    if imax < TFR * i**2 * jmax**2:\n",
    "        imax_new = int(TFR * i**2 * jmax**2) + 1000\n",
    "    else:\n",
    "        imax_new = imax\n",
    "        \n",
    "    note_value = EXPFD(S0, Trigger, TM, TFR, r, q, i, SU, imax_new, jmax, CPN, Review_dates, Payment_dates, CPN_payment_dates)\n",
    "    output = {'Volatility': i, 'Value': note_value}\n",
    "    value_result.append(output)"
   ]
  },
  {
   "cell_type": "code",
   "execution_count": 9,
   "metadata": {},
   "outputs": [
    {
     "data": {
      "text/plain": [
       "[{'Volatility': 0.3915633, 'Value': 938.8873752087648},\n",
       " {'Volatility': 0.2627887, 'Value': 974.208708430126},\n",
       " {'Volatility': 0.3625552, 'Value': 946.0829819066246},\n",
       " {'Volatility': 0.2603371, 'Value': 975.0204242021177},\n",
       " {'Volatility': 0.3508948, 'Value': 949.0435430638315},\n",
       " {'Volatility': 0.2762897, 'Value': 969.8787194524749},\n",
       " {'Volatility': 0.3383119, 'Value': 952.301722407649},\n",
       " {'Volatility': 0.2713139, 'Value': 971.4478363372443}]"
      ]
     },
     "execution_count": 9,
     "metadata": {},
     "output_type": "execute_result"
    }
   ],
   "source": [
    "# Print value with different volatilities\n",
    "value_result"
   ]
  },
  {
   "cell_type": "markdown",
   "metadata": {},
   "source": [
    "# Part c) Non-linearity Analysis"
   ]
  },
  {
   "cell_type": "code",
   "execution_count": 13,
   "metadata": {},
   "outputs": [],
   "source": [
    "def EXPFD_1(S0, Trigger, TM, TFR, r, q, sigma, SU, imax, jmaxmin, jmaxmax, jmaxstep, CPN, Review_dates, Payment_dates, CPN_payment_dates):\n",
    "    \n",
    "    # LIST TO SAVE RESULTS\n",
    "    expfd_result = []\n",
    "    \n",
    "    # Test different jmax\n",
    "    for jmax in range(jmaxmin, jmaxmax, jmaxstep): \n",
    "        \n",
    "        # Make sure the grid is stable\n",
    "        if imax < TFR * sigma**2 * jmax**2:\n",
    "            imax_new = int(TFR * sigma**2 * jmax**2) + 1000\n",
    "        else:\n",
    "            imax_new = imax\n",
    "        \n",
    "        # CREATE TWO DIMENSIONAL ARRAY OF SIZE [imax+1,jmax+1] TO STORE V AND VT AT ALL STEPS\n",
    "        V  = np.zeros([imax_new+1, jmax+1])\n",
    "        VT = np.zeros([imax_new+1, jmax+1])\n",
    "\n",
    "        # CREATE ONE DIMENSIONAL ARRAY OF SIZE [jmax+1] TO STORE A, B, C VALUES AT ALL STEPS\n",
    "        # A[jmax], B[jmax], C[jmax] \n",
    "        A = np.zeros([jmax+1])\n",
    "        B = np.zeros([jmax+1])\n",
    "        C = np.zeros([jmax+1])\n",
    "\n",
    "        # Set up time and S steps\n",
    "        dt = TFR / imax_new\n",
    "        dS = SU / jmax\n",
    "\n",
    "        # Set up Autocall and Trigger steps \n",
    "        j0 = int(S0/dS)        \n",
    "        jb = int(Trigger/dS)   \n",
    "\n",
    "        # Review dates for autocall (Final Review Date TM included)\n",
    "        ireview1 = [i/dt for i in Review_dates]      \n",
    "        ireview = [int(round(i)) for i in ireview1]    \n",
    "\n",
    "        # Payment dates for coupons from T3~T17 (Final Review Date TM NOT included) \n",
    "        ipayment1 = [i/dt for i in Payment_dates]        \n",
    "        ipayment = [int(round(i)) for i in ipayment1]       \n",
    "\n",
    "        # Payment dates for coupons from T1,T2 (coupon only date)\n",
    "        icpn1 = [i/dt for i in CPN_payment_dates]       \n",
    "        icpn = [int(round(i)) for i in icpn1]      \n",
    "\n",
    "        # Payment dates for all coupons from T1~T17 \n",
    "        itotal = icpn + ipayment\n",
    "\n",
    "        ### Grid for VT (Trigger event DOES happan) ###########################################################\n",
    "\n",
    "        ### At maturity\n",
    "        # Calculate option value at maturity VT[imax,j]\n",
    "        # Also calculate the probabilities A, B, C\n",
    "        i = imax_new \n",
    "\n",
    "        for j in range(0, jmax+1):    \n",
    "\n",
    "            if j >= j0:  \n",
    "                VT[i, j] = (1000 + CPN) * np.exp(TM - TFR)  # Autocall                                   \n",
    "            else:\n",
    "                VT[i, j] = (1000 * (j*dS/S0) + CPN) * np.exp(TM - TFR)\n",
    "\n",
    "            A[j] = (0.5 * (sigma ** 2) * (j ** 2) + 0.5 * (r - q) * j) * dt\n",
    "            B[j] =  1 - r * dt - sigma ** 2 * j ** 2 * dt\n",
    "            C[j] = (0.5 * (sigma ** 2) * (j ** 2) - 0.5 * (r - q) * j) * dt\n",
    "\n",
    "        ### Backward in time\n",
    "        counter1 = 0\n",
    "        counter2 = 0\n",
    "\n",
    "        for i in range(imax_new-1, -1, -1):\n",
    "\n",
    "            # Lower boundary condition for VT\n",
    "            # VT[i,0]=PV(remaining coupons)\n",
    "            VT[i, 0] = 0\n",
    "\n",
    "            # Check if i meet the review dates (T18 not included)\n",
    "            if (i+1) in itotal:         \n",
    "                counter1 += 1\n",
    "            if counter1 > 0:\n",
    "                PV_cpn = []             # List to save the coupons \n",
    "                for k in range(1, counter1+1):\n",
    "                    PV_cpn.append(CPN * np.exp(-r *(itotal[-k] * dt - i * dt)))  # Append each coupon in the list\n",
    "                VT[i, 0] = sum(PV_cpn)  # Sum up the coupons \n",
    "\n",
    "            # Regular finite difference formula\n",
    "            for j in range(1, jmax, 1):\n",
    "\n",
    "                VT[i,j] = A[j]*VT[i+1,j+1]+B[j]*VT[i+1,j]+C[j]*VT[i+1,j-1] \n",
    "\n",
    "                # Payment dates for coupons T1,T2 (coupon only date) \n",
    "                if i in icpn:     \n",
    "                    VT[i,j] += CPN\n",
    "\n",
    "                # Payment dates for coupons T3~T17\n",
    "                if i in ireview:\n",
    "                    if j * dS >= S0:\n",
    "                        VT[i,j] = (1000 + CPN) * np.exp(-r * (ipayment[ireview.index(i)] * dt - i * dt))\n",
    "                    else:\n",
    "                        VT[i,j] += CPN * np.exp(-r * (ipayment[ireview.index(i)] * dt - i * dt))\n",
    "                        # ipayment[ireview.index(i)]: time of coupon date\n",
    "\n",
    "            # Upper boundary condition for VT\n",
    "            if (i+1) in ireview:  # If next time step is autocall date???  \n",
    "                counter2 += 1  \n",
    "            VT[i,jmax] = (1000 + CPN) * np.exp(-r * (ireview[-counter2] * dt - i * dt))\n",
    "            # ireview[-counter2]: time of next autocall\n",
    "\n",
    "        ### Grid for V (Trigger event does NOT happan) ###########################################################\n",
    "\n",
    "        ### At maturity\n",
    "        # Calculate option value at maturity V[imax,j]\n",
    "        # Probabilities A, B, C are the same from V\n",
    "        i = imax_new \n",
    "\n",
    "        for j in range(0, jmax+1):\n",
    "            if j >= jb:\n",
    "                V[i, j] = (1000 + CPN) * np.exp(TM - TFR)      \n",
    "\n",
    "        counter3 = 0\n",
    "\n",
    "        ### Backward in time\n",
    "        for i in range(imax_new-1, -1, -1):\n",
    "\n",
    "            # Lower boundary condition for V\n",
    "            # Get value from VT\n",
    "            V[i, jb] = VT[i, jb] \n",
    "\n",
    "            # Regular finite difference formula\n",
    "            for j in range(jb+1, jmax, 1):\n",
    "\n",
    "                V[i,j] = A[j]*V[i+1,j+1]+B[j]*V[i+1,j]+C[j]*V[i+1,j-1]\n",
    "\n",
    "                # Payment dates for coupons T1,T2 (coupon only date) \n",
    "                if i in icpn:\n",
    "                    V[i,j] += CPN\n",
    "\n",
    "                # Payment dates for coupons T3~T17\n",
    "                if i in ireview:\n",
    "                    if j * dS >= S0:  # Autocall\n",
    "                        V[i,j] = (1000 + CPN) * np.exp(-r * (ipayment[ireview.index(i)] * dt - i * dt))\n",
    "                    else:\n",
    "                        V[i,j] += CPN * np.exp(-r * (ipayment[ireview.index(i)] * dt - i * dt))\n",
    "                        # ipayment[ireview.index(i)]: time of coupon date\n",
    "\n",
    "            # Upper boundary condition for V\n",
    "            if (i+1) in ireview:\n",
    "                counter3 += 1\n",
    "            V[i,jmax] = (1000 + CPN) * np.exp(-r * (ireview[-counter3] * dt - i * dt))\n",
    "            # ireview[-counter3]: time of next autocall\n",
    "\n",
    "        # If value lower than LBC, then get value from VT\n",
    "        V[:, 0:jb] = VT[:, 0:jb]\n",
    "        \n",
    "        # RELAY OUTPUTS TO DICTIONARY\n",
    "        jcritreal = S0/dS\n",
    "        jcrit = int(jcritreal)\n",
    "        jcritB = int(Trigger/dS)+1\n",
    "        Vcrit = V[0,jcrit]+ (S0 - jcrit * dS) / (dS) * (V[0,jcrit+1] - V[0,jcrit])\n",
    "        Blambda = round((jcritB*dS - Trigger)/dS, 2)\n",
    "        output = {'S_steps': jmax, 't_steps': imax_new, 'EXP': Vcrit, 'Lambda': Blambda}\n",
    "        expfd_result.append(output)\n",
    "    \n",
    "    # return different j results\n",
    "    return expfd_result\n"
   ]
  },
  {
   "cell_type": "markdown",
   "metadata": {},
   "source": [
    "### Varying lambda"
   ]
  },
  {
   "cell_type": "code",
   "execution_count": 14,
   "metadata": {},
   "outputs": [],
   "source": [
    "start_j = 50  # start j (jmaxmin)\n",
    "end_j = 500   # end j   (jmaxmax)\n",
    "j_step = 10   # j steps"
   ]
  },
  {
   "cell_type": "code",
   "execution_count": 15,
   "metadata": {},
   "outputs": [],
   "source": [
    "expfd_varyLamda = EXPFD_1(S0, Trigger, TM, TFR, r, q, sigma, SU, imax, start_j, end_j, j_step, CPN, Review_dates, Payment_dates, CPN_payment_dates)"
   ]
  },
  {
   "cell_type": "code",
   "execution_count": 16,
   "metadata": {},
   "outputs": [],
   "source": [
    "# CREATE A DATAFRAME FROM THE BINOMIAL MODEL OUTPUT\n",
    "df_varyLamda = pd.DataFrame.from_dict(expfd_varyLamda)"
   ]
  },
  {
   "cell_type": "code",
   "execution_count": 17,
   "metadata": {},
   "outputs": [],
   "source": [
    "# EXPORT THE DATA TO A CSV FILE\n",
    "# df_varyLamda.to_csv(\"/Users/changyushiuan/Desktop/2022Spring/FIN514/Project/Project2/expfd.csv\", index=False)"
   ]
  },
  {
   "cell_type": "code",
   "execution_count": 18,
   "metadata": {},
   "outputs": [
    {
     "data": {
      "text/html": [
       "<div>\n",
       "<style scoped>\n",
       "    .dataframe tbody tr th:only-of-type {\n",
       "        vertical-align: middle;\n",
       "    }\n",
       "\n",
       "    .dataframe tbody tr th {\n",
       "        vertical-align: top;\n",
       "    }\n",
       "\n",
       "    .dataframe thead th {\n",
       "        text-align: right;\n",
       "    }\n",
       "</style>\n",
       "<table border=\"1\" class=\"dataframe\">\n",
       "  <thead>\n",
       "    <tr style=\"text-align: right;\">\n",
       "      <th></th>\n",
       "      <th>S_steps</th>\n",
       "      <th>t_steps</th>\n",
       "      <th>EXP</th>\n",
       "      <th>Lambda</th>\n",
       "    </tr>\n",
       "  </thead>\n",
       "  <tbody>\n",
       "    <tr>\n",
       "      <th>0</th>\n",
       "      <td>50</td>\n",
       "      <td>10000</td>\n",
       "      <td>992.665266</td>\n",
       "      <td>1.0</td>\n",
       "    </tr>\n",
       "    <tr>\n",
       "      <th>1</th>\n",
       "      <td>60</td>\n",
       "      <td>10000</td>\n",
       "      <td>999.289867</td>\n",
       "      <td>0.2</td>\n",
       "    </tr>\n",
       "    <tr>\n",
       "      <th>2</th>\n",
       "      <td>70</td>\n",
       "      <td>10000</td>\n",
       "      <td>997.006957</td>\n",
       "      <td>0.4</td>\n",
       "    </tr>\n",
       "    <tr>\n",
       "      <th>3</th>\n",
       "      <td>80</td>\n",
       "      <td>10000</td>\n",
       "      <td>995.309080</td>\n",
       "      <td>0.6</td>\n",
       "    </tr>\n",
       "    <tr>\n",
       "      <th>4</th>\n",
       "      <td>90</td>\n",
       "      <td>10000</td>\n",
       "      <td>994.007286</td>\n",
       "      <td>0.8</td>\n",
       "    </tr>\n",
       "  </tbody>\n",
       "</table>\n",
       "</div>"
      ],
      "text/plain": [
       "   S_steps  t_steps         EXP  Lambda\n",
       "0       50    10000  992.665266     1.0\n",
       "1       60    10000  999.289867     0.2\n",
       "2       70    10000  997.006957     0.4\n",
       "3       80    10000  995.309080     0.6\n",
       "4       90    10000  994.007286     0.8"
      ]
     },
     "execution_count": 18,
     "metadata": {},
     "output_type": "execute_result"
    }
   ],
   "source": [
    "df_varyLamda.head()"
   ]
  },
  {
   "cell_type": "code",
   "execution_count": 19,
   "metadata": {},
   "outputs": [
    {
     "data": {
      "text/html": [
       "<div>\n",
       "<style scoped>\n",
       "    .dataframe tbody tr th:only-of-type {\n",
       "        vertical-align: middle;\n",
       "    }\n",
       "\n",
       "    .dataframe tbody tr th {\n",
       "        vertical-align: top;\n",
       "    }\n",
       "\n",
       "    .dataframe thead th {\n",
       "        text-align: right;\n",
       "    }\n",
       "</style>\n",
       "<table border=\"1\" class=\"dataframe\">\n",
       "  <thead>\n",
       "    <tr style=\"text-align: right;\">\n",
       "      <th></th>\n",
       "      <th>S_steps</th>\n",
       "      <th>t_steps</th>\n",
       "      <th>EXP</th>\n",
       "      <th>Lambda</th>\n",
       "    </tr>\n",
       "  </thead>\n",
       "  <tbody>\n",
       "    <tr>\n",
       "      <th>40</th>\n",
       "      <td>450</td>\n",
       "      <td>15118</td>\n",
       "      <td>992.648988</td>\n",
       "      <td>1.0</td>\n",
       "    </tr>\n",
       "    <tr>\n",
       "      <th>41</th>\n",
       "      <td>460</td>\n",
       "      <td>15753</td>\n",
       "      <td>993.481606</td>\n",
       "      <td>0.2</td>\n",
       "    </tr>\n",
       "    <tr>\n",
       "      <th>42</th>\n",
       "      <td>470</td>\n",
       "      <td>16401</td>\n",
       "      <td>993.171211</td>\n",
       "      <td>0.4</td>\n",
       "    </tr>\n",
       "    <tr>\n",
       "      <th>43</th>\n",
       "      <td>480</td>\n",
       "      <td>17063</td>\n",
       "      <td>993.041247</td>\n",
       "      <td>0.6</td>\n",
       "    </tr>\n",
       "    <tr>\n",
       "      <th>44</th>\n",
       "      <td>490</td>\n",
       "      <td>17740</td>\n",
       "      <td>992.837233</td>\n",
       "      <td>0.8</td>\n",
       "    </tr>\n",
       "  </tbody>\n",
       "</table>\n",
       "</div>"
      ],
      "text/plain": [
       "    S_steps  t_steps         EXP  Lambda\n",
       "40      450    15118  992.648988     1.0\n",
       "41      460    15753  993.481606     0.2\n",
       "42      470    16401  993.171211     0.4\n",
       "43      480    17063  993.041247     0.6\n",
       "44      490    17740  992.837233     0.8"
      ]
     },
     "execution_count": 19,
     "metadata": {},
     "output_type": "execute_result"
    }
   ],
   "source": [
    "df_varyLamda.tail()"
   ]
  },
  {
   "cell_type": "code",
   "execution_count": 20,
   "metadata": {},
   "outputs": [
    {
     "data": {
      "image/png": "[encoded data removed]",
      "text/plain": [
       "<Figure size 1008x720 with 1 Axes>"
      ]
     },
     "metadata": {
      "needs_background": "light"
     },
     "output_type": "display_data"
    }
   ],
   "source": [
    "plt.figure(figsize=(14,10))\n",
    "plt.plot(df_varyLamda['S_steps'], df_varyLamda['EXP'], '-', markersize=3)\n",
    "plt.title(\"Option Value of EXP\")\n",
    "plt.xlabel(\"Number of S steps\")\n",
    "plt.ylabel(\"Value\")\n",
    "# plt.savefig('/Users/changyushiuan/Desktop/2022Spring/FIN514/Project/Project2/exp_value.png')\n",
    "plt.show()"
   ]
  },
  {
   "cell_type": "markdown",
   "metadata": {},
   "source": [
    "### Lambda=1\n",
    "In this case, since the continuous barrier (autocall) have the largest error, we can make the grid exactly on the notes,\n",
    "by selecting lamda=1."
   ]
  },
  {
   "cell_type": "code",
   "execution_count": 21,
   "metadata": {},
   "outputs": [],
   "source": [
    "start_j = 50  # start j (jmaxmin)\n",
    "end_j = 500   # end j   (jmaxmax)\n",
    "j_step = 25   # j steps"
   ]
  },
  {
   "cell_type": "code",
   "execution_count": 22,
   "metadata": {},
   "outputs": [],
   "source": [
    "expfd_Lamda1 = EXPFD_1(S0, Trigger, TM, TFR, r, q, sigma, SU, imax, start_j, end_j, j_step, CPN, Review_dates, Payment_dates, CPN_payment_dates)"
   ]
  },
  {
   "cell_type": "code",
   "execution_count": 23,
   "metadata": {},
   "outputs": [],
   "source": [
    "# CREATE A DATAFRAME FROM THE BINOMIAL MODEL OUTPUT\n",
    "df_Lamda1 = pd.DataFrame.from_dict(expfd_Lamda1)"
   ]
  },
  {
   "cell_type": "code",
   "execution_count": 24,
   "metadata": {},
   "outputs": [
    {
     "data": {
      "text/html": [
       "<div>\n",
       "<style scoped>\n",
       "    .dataframe tbody tr th:only-of-type {\n",
       "        vertical-align: middle;\n",
       "    }\n",
       "\n",
       "    .dataframe tbody tr th {\n",
       "        vertical-align: top;\n",
       "    }\n",
       "\n",
       "    .dataframe thead th {\n",
       "        text-align: right;\n",
       "    }\n",
       "</style>\n",
       "<table border=\"1\" class=\"dataframe\">\n",
       "  <thead>\n",
       "    <tr style=\"text-align: right;\">\n",
       "      <th></th>\n",
       "      <th>S_steps</th>\n",
       "      <th>t_steps</th>\n",
       "      <th>EXP</th>\n",
       "      <th>Lambda</th>\n",
       "    </tr>\n",
       "  </thead>\n",
       "  <tbody>\n",
       "    <tr>\n",
       "      <th>0</th>\n",
       "      <td>50</td>\n",
       "      <td>10000</td>\n",
       "      <td>992.665266</td>\n",
       "      <td>1.0</td>\n",
       "    </tr>\n",
       "    <tr>\n",
       "      <th>1</th>\n",
       "      <td>75</td>\n",
       "      <td>10000</td>\n",
       "      <td>992.491358</td>\n",
       "      <td>1.0</td>\n",
       "    </tr>\n",
       "    <tr>\n",
       "      <th>2</th>\n",
       "      <td>100</td>\n",
       "      <td>10000</td>\n",
       "      <td>992.462246</td>\n",
       "      <td>1.0</td>\n",
       "    </tr>\n",
       "    <tr>\n",
       "      <th>3</th>\n",
       "      <td>125</td>\n",
       "      <td>10000</td>\n",
       "      <td>992.883218</td>\n",
       "      <td>1.0</td>\n",
       "    </tr>\n",
       "    <tr>\n",
       "      <th>4</th>\n",
       "      <td>150</td>\n",
       "      <td>10000</td>\n",
       "      <td>992.468759</td>\n",
       "      <td>1.0</td>\n",
       "    </tr>\n",
       "  </tbody>\n",
       "</table>\n",
       "</div>"
      ],
      "text/plain": [
       "   S_steps  t_steps         EXP  Lambda\n",
       "0       50    10000  992.665266     1.0\n",
       "1       75    10000  992.491358     1.0\n",
       "2      100    10000  992.462246     1.0\n",
       "3      125    10000  992.883218     1.0\n",
       "4      150    10000  992.468759     1.0"
      ]
     },
     "execution_count": 24,
     "metadata": {},
     "output_type": "execute_result"
    }
   ],
   "source": [
    "df_Lamda1.head()"
   ]
  },
  {
   "cell_type": "code",
   "execution_count": 25,
   "metadata": {},
   "outputs": [
    {
     "data": {
      "image/png": "[encoded data removed]",
      "text/plain": [
       "<Figure size 1008x720 with 1 Axes>"
      ]
     },
     "metadata": {
      "needs_background": "light"
     },
     "output_type": "display_data"
    }
   ],
   "source": [
    "plt.figure(figsize=(14,10))\n",
    "plt.plot(df_Lamda1['S_steps'], df_Lamda1['EXP'], '-', markersize=3)\n",
    "plt.title(\"Option Value of EXP\")\n",
    "plt.xlabel(\"Number of S steps\")\n",
    "plt.ylabel(\"Value\")\n",
    "# plt.savefig('/Users/changyushiuan/Desktop/2022Spring/FIN514/Project/Project2/exp_value.png')\n",
    "plt.show()"
   ]
  }
 ],
 "metadata": {
  "kernelspec": {
   "display_name": "Python 3 (ipykernel)",
   "language": "python",
   "name": "python3"
  },
  "language_info": {
   "codemirror_mode": {
    "name": "ipython",
    "version": 3
   },
   "file_extension": ".py",
   "mimetype": "text/x-python",
   "name": "python",
   "nbconvert_exporter": "python",
   "pygments_lexer": "ipython3",
   "version": "3.9.7"
  }
 },
 "nbformat": 4,
 "nbformat_minor": 4
}
